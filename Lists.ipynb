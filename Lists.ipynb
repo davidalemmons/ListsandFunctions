{
 "cells": [
  {
   "cell_type": "code",
   "execution_count": 1,
   "id": "8ded4482-4174-4215-96bd-2d6a3a740b3b",
   "metadata": {},
   "outputs": [
    {
     "name": "stdout",
     "output_type": "stream",
     "text": [
      "['MOZZARELLA', 'Cinderella']\n"
     ]
    }
   ],
   "source": [
    "things = [\"mozzarella\",\"cinderella\",\"salmonella\"]\n",
    "\n",
    "things[1]=\"Cinderella\"\n",
    "\n",
    "things[0]= things[0].upper()\n",
    "\n",
    "things.remove(\"salmonella\")\n",
    "\n",
    "print(things)"
   ]
  }
 ],
 "metadata": {
  "kernelspec": {
   "display_name": "Python 3 (ipykernel)",
   "language": "python",
   "name": "python3"
  },
  "language_info": {
   "codemirror_mode": {
    "name": "ipython",
    "version": 3
   },
   "file_extension": ".py",
   "mimetype": "text/x-python",
   "name": "python",
   "nbconvert_exporter": "python",
   "pygments_lexer": "ipython3",
   "version": "3.12.4"
  }
 },
 "nbformat": 4,
 "nbformat_minor": 5
}
