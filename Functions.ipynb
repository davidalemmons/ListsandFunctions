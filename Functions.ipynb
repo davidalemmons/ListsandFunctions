{
 "cells": [
  {
   "cell_type": "code",
   "execution_count": 1,
   "id": "4f965be2-bd5c-47e5-b5ea-fac25271c07e",
   "metadata": {},
   "outputs": [
    {
     "name": "stdout",
     "output_type": "stream",
     "text": [
      "['Harry', 'Ron', 'Hermione']\n",
      "The third odd number is: 5\n"
     ]
    }
   ],
   "source": [
    "def good():\n",
    "    Wizards=[\"Harry\",\"Ron\",\"Hermione\"]\n",
    "    print(Wizards)\n",
    "\n",
    "good()\n",
    "\n",
    "def get_odds():\n",
    "    for numbers in range(10):\n",
    "        if numbers % 2 != 0:\n",
    "            yield numbers\n",
    "\n",
    "counter = 0\n",
    "\n",
    "for odd in get_odds():\n",
    "    counter+=1\n",
    "    if counter ==3:\n",
    "        print(f\"The third odd number is: {odd}\")\n"
   ]
  }
 ],
 "metadata": {
  "kernelspec": {
   "display_name": "Python 3 (ipykernel)",
   "language": "python",
   "name": "python3"
  },
  "language_info": {
   "codemirror_mode": {
    "name": "ipython",
    "version": 3
   },
   "file_extension": ".py",
   "mimetype": "text/x-python",
   "name": "python",
   "nbconvert_exporter": "python",
   "pygments_lexer": "ipython3",
   "version": "3.12.4"
  }
 },
 "nbformat": 4,
 "nbformat_minor": 5
}
